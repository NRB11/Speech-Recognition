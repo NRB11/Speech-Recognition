{
 "cells": [
  {
   "cell_type": "code",
   "execution_count": 12,
   "metadata": {},
   "outputs": [
    {
     "data": {
      "application/vnd.jupyter.widget-view+json": {
       "model_id": "17841169733f4b119fe3a5ff3293dcd8",
       "version_major": 2,
       "version_minor": 0
      },
      "text/plain": [
       "Button(button_style='success', description='Record', icon='microphone', style=ButtonStyle())"
      ]
     },
     "metadata": {},
     "output_type": "display_data"
    },
    {
     "data": {
      "application/vnd.jupyter.widget-view+json": {
       "model_id": "20c8defdc66c41b680b505338044cd73",
       "version_major": 2,
       "version_minor": 0
      },
      "text/plain": [
       "Button(button_style='warning', description='Stop', icon='stop', style=ButtonStyle())"
      ]
     },
     "metadata": {},
     "output_type": "display_data"
    },
    {
     "data": {
      "application/vnd.jupyter.widget-view+json": {
       "model_id": "8ec4b1b09076427a8f1ae5a8aba16377",
       "version_major": 2,
       "version_minor": 0
      },
      "text/plain": [
       "Output()"
      ]
     },
     "metadata": {},
     "output_type": "display_data"
    }
   ],
   "source": [
    "#code is from https://youtu.be/2kSPbH4jWME by Dataquest, seen feb. 24. 2023 \n",
    "#here we import liberies and elements form those functions\n",
    "import ipywidgets as widgets\n",
    "from IPython.display import display\n",
    "from threading import Thread\n",
    "from queue import Queue\n",
    "\n",
    "#the queues are threads so the run in the background\n",
    "#a queue for messages\n",
    "messages = Queue()\n",
    "\n",
    "#a queue for recordings\n",
    "recordings = Queue()\n",
    "\n",
    "#Here we create a button called \"record_button\" and determin it as a widgets so we can interacet with it.\n",
    "#then we set the properties for, such as style, color, when its off and its icon.\n",
    "record_button = widgets.Button(\n",
    "    description=\"Record\",\n",
    "    disabled = False,\n",
    "    button_style=\"success\",\n",
    "    icon=\"microphone\"\n",
    ")\n",
    "\n",
    "#here we do the same thing, as the one above, but for a stop button insted\n",
    "stop_button = widgets.Button(\n",
    "    description=\"Stop\",\n",
    "    disabled = False,\n",
    "    button_style=\"warning\",\n",
    "    icon=\"stop\"\n",
    ")\n",
    "\n",
    "#this is the function we run to get a output\n",
    "output = widgets.Output()\n",
    "\n",
    "#this is the functions where the program understan what happens when start recording and stop recording \n",
    "def start_recording(data):\n",
    "    \n",
    "   #this will add a message to teh queue\n",
    "    messages.put(True)\n",
    "    \n",
    "    with output:\n",
    "        display(\"starting...\")\n",
    "        \n",
    "        #here is where we telle the threads that it should reecord the microphone\n",
    "        record = Thread(traget=record_microphone)\n",
    "        record.start()\n",
    "        \n",
    "        #here we telle the threads to transcribe the audio \n",
    "        transcribe = Thread(target=speedh_recognition,args=(output))\n",
    "        transcribe.start()\n",
    "    \n",
    "def stop_recording(data):\n",
    "    with output:\n",
    "        messages.get()\n",
    "        display(\"Stopped.\")\n",
    "        \n",
    "#here we tell it what happens when the buttons are pressed\n",
    "record_button.on_click(start_recording)\n",
    "stop_button.on_click(stop_recording)\n",
    "\n",
    "#this displays the buttons and the trancript\n",
    "display(record_button,stop_button,output)\n"
   ]
  },
  {
   "cell_type": "code",
   "execution_count": null,
   "metadata": {},
   "outputs": [],
   "source": [
    "import pyaudio\n",
    "\n",
    "p = pyaudio.PyAudio()\n",
    "for i in range(p.get_device_count()):\n",
    "    print(p.get_device_info_by_index(i))\n",
    "\n",
    "p.terminate()\n"
   ]
  },
  {
   "cell_type": "code",
   "execution_count": null,
   "metadata": {},
   "outputs": [],
   "source": [
    "CHANNELS = 1\n",
    "FRAME_RATE = 16000\n",
    "RECORD_SECONDS = 20\n",
    "AUDIO_FORMAT = pyaudio.paInt16\n",
    "SAMPLE_SIZE = 2\n",
    "\n",
    "def record_microphone(chunk=1024):\n",
    "    p = pyaudio.PyAudio()\n",
    "    \n",
    "    stream = p.open(format=AUDIO_FORMAT,\n",
    "                    channels=CHANNELS,\n",
    "                    input = True\n",
    "                    input_device_index=1,\n",
    "                    frames_per_buffer=chunk)\n",
    "    frames = []\n",
    "    \n",
    "    while not messages.empty():\n",
    "        data = stream.read(chunk)\n",
    "        frames.append(data)\n",
    "        \n",
    "        if len(frames) >= (FRAME_RATE * RECORD_SECONDS) / chunk:\n",
    "        recording.put(frames.copy())\n",
    "        Frames = []\n",
    "        \n",
    "    stream.stop_stream()\n",
    "    stream.close()\n",
    "    p.terminate()"
   ]
  }
 ],
 "metadata": {
  "kernelspec": {
   "display_name": "Python 3",
   "language": "python",
   "name": "python3"
  },
  "language_info": {
   "codemirror_mode": {
    "name": "ipython",
    "version": 3
   },
   "file_extension": ".py",
   "mimetype": "text/x-python",
   "name": "python",
   "nbconvert_exporter": "python",
   "pygments_lexer": "ipython3",
   "version": "3.11.2"
  },
  "orig_nbformat": 4,
  "vscode": {
   "interpreter": {
    "hash": "79ea7c38b981df5fefdfbc435124583a94ccd23b2707a7ddf64cabdfa80d8c42"
   }
  }
 },
 "nbformat": 4,
 "nbformat_minor": 2
}
